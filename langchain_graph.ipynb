{
 "cells": [
  {
   "cell_type": "code",
   "execution_count": 1,
   "metadata": {},
   "outputs": [],
   "source": [
    "from langchain_openai import ChatOpenAI\n",
    "from langchain.chains import GraphCypherQAChain\n",
    "from langchain.graphs import Neo4jGraph"
   ]
  },
  {
   "cell_type": "code",
   "execution_count": 6,
   "metadata": {},
   "outputs": [],
   "source": [
    "cypher_llm = ChatOpenAI(temperature=0)\n",
    "response_llm = ChatOpenAI(temperature=0)\n",
    "graph = Neo4jGraph(url=\"[ENTER_GRAPH_DB_URL_HERE]\", username=\"[ENTER_GRAPH_DB_USERNAME_HERE]\", password=\"[ENTER_GRAPH_DB_PASSWORD_HERE]\")"
   ]
  },
  {
   "cell_type": "code",
   "execution_count": 7,
   "metadata": {},
   "outputs": [],
   "source": [
    "cypher_chain = GraphCypherQAChain.from_llm(\n",
    "    llm=cypher_llm,\n",
    "    graph=graph\n",
    ")"
   ]
  },
  {
   "cell_type": "code",
   "execution_count": 8,
   "metadata": {},
   "outputs": [],
   "source": [
    "query = \"What movies has Tom Cruise played in?\"\n",
    "cypher_result = cypher_chain.invoke({\"query\": query})\n",
    "retrieved_data = cypher_result['result']"
   ]
  },
  {
   "cell_type": "code",
   "execution_count": 9,
   "metadata": {},
   "outputs": [
    {
     "data": {
      "text/plain": [
       "'Tom Cruise has appeared in several movies, including A Few Good Men, Top Gun, and Jerry Maguire.'"
      ]
     },
     "execution_count": 9,
     "metadata": {},
     "output_type": "execute_result"
    }
   ],
   "source": [
    "formatting_prompt = f\"Given the query '{query}', format the following data into a detailed and conversational sentence:\\n\\nData: {retrieved_data}\"\n",
    "\n",
    "formatted_response = response_llm.invoke(formatting_prompt).content\n",
    "formatted_response"
   ]
  },
  {
   "cell_type": "code",
   "execution_count": 10,
   "metadata": {},
   "outputs": [],
   "source": [
    "from langchain_openai import ChatOpenAI\n",
    "from langchain.chains import GraphCypherQAChain\n",
    "from langchain.graphs import Neo4jGraph\n",
    "\n",
    "graph = Neo4jGraph(url=\"[ENTER_GRAPH_DB_URL_HERE]\", username=\"[ENTER_GRAPH_DB_USERNAME_HERE]\", password=\"[ENTER_GRAPH_DB_PASSWORD_HERE]\")"
   ]
  },
  {
   "cell_type": "code",
   "execution_count": 11,
   "metadata": {},
   "outputs": [],
   "source": [
    "def movie_query():\n",
    "    cypher_llm = ChatOpenAI(temperature=0)\n",
    "    response_llm = ChatOpenAI(temperature=0)\n",
    "\n",
    "    cypher_chain = GraphCypherQAChain.from_llm(\n",
    "        llm=cypher_llm,\n",
    "        graph=graph\n",
    "    )\n",
    "\n",
    "    query = input(\"Please Enter Your Movie Query: \")\n",
    "    cypher_result = cypher_chain.invoke({\"query\": query})\n",
    "    retrieved_data = cypher_result['result']\n",
    "\n",
    "    formatting_prompt = f\"Given the query '{query}', format the following data into a detailed and conversational sentence:\\n\\nData: {retrieved_data}\"\n",
    "\n",
    "    formatted_response = response_llm.invoke(formatting_prompt).content\n",
    "    print(formatted_response)"
   ]
  },
  {
   "cell_type": "code",
   "execution_count": 12,
   "metadata": {},
   "outputs": [
    {
     "name": "stdout",
     "output_type": "stream",
     "text": [
      "Tom Cruise has appeared in several movies, including A Few Good Men, Top Gun, and Jerry Maguire.\n"
     ]
    }
   ],
   "source": [
    "movie_query()"
   ]
  }
 ],
 "metadata": {
  "kernelspec": {
   "display_name": "Python 3",
   "language": "python",
   "name": "python3"
  },
  "language_info": {
   "codemirror_mode": {
    "name": "ipython",
    "version": 3
   },
   "file_extension": ".py",
   "mimetype": "text/x-python",
   "name": "python",
   "nbconvert_exporter": "python",
   "pygments_lexer": "ipython3",
   "version": "3.12.5"
  }
 },
 "nbformat": 4,
 "nbformat_minor": 2
}
