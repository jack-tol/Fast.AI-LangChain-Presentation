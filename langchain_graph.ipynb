{
 "cells": [
  {
   "cell_type": "code",
   "execution_count": null,
   "metadata": {},
   "outputs": [],
   "source": [
    "from langchain_openai import ChatOpenAI\n",
    "from langchain.chains import GraphCypherQAChain\n",
    "from langchain.graphs import Neo4jGraph"
   ]
  },
  {
   "cell_type": "code",
   "execution_count": null,
   "metadata": {},
   "outputs": [],
   "source": [
    "cypher_llm = ChatOpenAI(temperature=0)\n",
    "response_llm = ChatOpenAI(temperature=0)\n",
    "graph = Neo4jGraph(url=\"neo4j+s://b6092ca2.databases.neo4j.io\", username=\"neo4j\", password=\"SxfbcJQfBOBV9YZAi1dOKoe-vYkLU-fHU9Hzo5yln0Q\")"
   ]
  },
  {
   "cell_type": "code",
   "execution_count": null,
   "metadata": {},
   "outputs": [],
   "source": [
    "cypher_chain = GraphCypherQAChain.from_llm(\n",
    "    llm=cypher_llm,\n",
    "    graph=graph\n",
    ")"
   ]
  },
  {
   "cell_type": "code",
   "execution_count": null,
   "metadata": {},
   "outputs": [],
   "source": [
    "query = \"What movies has Tom Cruise played in?\"\n",
    "cypher_result = cypher_chain.invoke({\"query\": query})\n",
    "retrieved_data = cypher_result['result']"
   ]
  },
  {
   "cell_type": "code",
   "execution_count": null,
   "metadata": {},
   "outputs": [],
   "source": [
    "formatting_prompt = f\"Given the query '{query}', format the following data into a detailed and conversational sentence:\\n\\nData: {retrieved_data}\"\n",
    "\n",
    "formatted_response = response_llm.invoke(formatting_prompt).content\n",
    "formatted_response"
   ]
  },
  {
   "cell_type": "code",
   "execution_count": 3,
   "metadata": {},
   "outputs": [],
   "source": [
    "from langchain_openai import ChatOpenAI\n",
    "from langchain.chains import GraphCypherQAChain\n",
    "from langchain.graphs import Neo4jGraph\n",
    "\n",
    "graph = Neo4jGraph(url=\"neo4j+s://b6092ca2.databases.neo4j.io\", username=\"neo4j\", password=\"SxfbcJQfBOBV9YZAi1dOKoe-vYkLU-fHU9Hzo5yln0Q\")"
   ]
  },
  {
   "cell_type": "code",
   "execution_count": 4,
   "metadata": {},
   "outputs": [],
   "source": [
    "def movie_query():\n",
    "    cypher_llm = ChatOpenAI(temperature=0)\n",
    "    response_llm = ChatOpenAI(temperature=0)\n",
    "\n",
    "    cypher_chain = GraphCypherQAChain.from_llm(\n",
    "        llm=cypher_llm,\n",
    "        graph=graph\n",
    "    )\n",
    "\n",
    "    query = input(\"Please Enter Your Movie Query: \")\n",
    "    cypher_result = cypher_chain.invoke({\"query\": query})\n",
    "    retrieved_data = cypher_result['result']\n",
    "\n",
    "    formatting_prompt = f\"Given the query '{query}', format the following data into a detailed and conversational sentence:\\n\\nData: {retrieved_data}\"\n",
    "\n",
    "    formatted_response = response_llm.invoke(formatting_prompt).content\n",
    "    print(formatted_response)"
   ]
  },
  {
   "cell_type": "code",
   "execution_count": 5,
   "metadata": {},
   "outputs": [
    {
     "name": "stdout",
     "output_type": "stream",
     "text": [
      "Kevin Bacon has appeared in several movies including A Few Good Men, Frost/Nixon, and Apollo 13.\n"
     ]
    },
    {
     "ename": "",
     "evalue": "",
     "output_type": "error",
     "traceback": [
      "\u001b[1;31mThe Kernel crashed while executing code in the current cell or a previous cell. \n",
      "\u001b[1;31mPlease review the code in the cell(s) to identify a possible cause of the failure. \n",
      "\u001b[1;31mClick <a href='https://aka.ms/vscodeJupyterKernelCrash'>here</a> for more info. \n",
      "\u001b[1;31mView Jupyter <a href='command:jupyter.viewOutput'>log</a> for further details."
     ]
    }
   ],
   "source": [
    "movie_query()"
   ]
  },
  {
   "cell_type": "code",
   "execution_count": null,
   "metadata": {},
   "outputs": [],
   "source": []
  }
 ],
 "metadata": {
  "kernelspec": {
   "display_name": "Python 3",
   "language": "python",
   "name": "python3"
  },
  "language_info": {
   "codemirror_mode": {
    "name": "ipython",
    "version": 3
   },
   "file_extension": ".py",
   "mimetype": "text/x-python",
   "name": "python",
   "nbconvert_exporter": "python",
   "pygments_lexer": "ipython3",
   "version": "3.11.6"
  }
 },
 "nbformat": 4,
 "nbformat_minor": 2
}
